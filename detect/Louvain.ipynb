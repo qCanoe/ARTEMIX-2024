{
 "cells": [
  {
   "cell_type": "code",
   "execution_count": 4,
   "metadata": {},
   "outputs": [],
   "source": [
    "import networkx as nx\n",
    "import community as community_louvain\n",
    "import torch\n",
    "import pandas as pd\n",
    "import numpy as np\n",
    "from sklearn.metrics.pairwise import cosine_similarity\n",
    "\n",
    "# 读取 GraphML 文件\n",
    "graph = nx.read_graphml(\"../../data/trans_graph.graphml\")"
   ]
  },
  {
   "cell_type": "code",
   "execution_count": 5,
   "metadata": {},
   "outputs": [],
   "source": [
    "# 读取节点特征\n",
    "node_features = torch.load(\"../../data/node_basic_features.pt\")\n",
    "node_features = node_features.numpy()  # 转换为 NumPy 数组\n",
    "\n",
    "# 读取地址数据\n",
    "addresses = pd.read_csv(\"../../original_data/每个地址被标记wash的次数.csv\", header=None)\n",
    "addresses = addresses[0].dropna().unique().tolist()  # 转换为列表"
   ]
  },
  {
   "cell_type": "code",
   "execution_count": 6,
   "metadata": {},
   "outputs": [],
   "source": [
    "# 创建地址到索引的映射\n",
    "address_to_index = {address: idx for idx, address in enumerate(addresses)}\n",
    "\n",
    "# 计算边的余弦相似度并更新边权重\n",
    "for u, v, data in graph.edges(data=True):\n",
    "    if u in address_to_index and v in address_to_index:  # 检查节点是否在地址列表中\n",
    "        u_index = address_to_index[u]\n",
    "        v_index = address_to_index[v]\n",
    "        u_feature = node_features[u_index].reshape(1, -1)\n",
    "        v_feature = node_features[v_index].reshape(1, -1)\n",
    "        similarity = cosine_similarity(u_feature, v_feature)[0][0]\n",
    "        data['weight'] = similarity\n",
    "    else:\n",
    "        data['weight'] = 0.0  # 如果地址不在列表中，设置默认权重"
   ]
  },
  {
   "cell_type": "code",
   "execution_count": 7,
   "metadata": {},
   "outputs": [
    {
     "name": "stdout",
     "output_type": "stream",
     "text": [
      "Performing Louvain community detection iteration 1/3...\n",
      "Iteration 1 Modularity: 0.31035410844479255\n",
      "Performing Louvain community detection iteration 2/3...\n",
      "Iteration 2 Modularity: 0.29401018422858094\n",
      "Performing Louvain community detection iteration 3/3...\n",
      "Iteration 3 Modularity: 0.3015931545419888\n"
     ]
    }
   ],
   "source": [
    "# 设置进行社区检测的次数\n",
    "num_iterations = 3\n",
    "\n",
    "best_partition = None\n",
    "best_modularity = float('-inf')\n",
    "\n",
    "for i in range(num_iterations):\n",
    "    print(f\"Performing Louvain community detection iteration {i + 1}/{num_iterations}...\")\n",
    "\n",
    "    # Louvain 社区检测\n",
    "    partition = community_louvain.best_partition(graph, weight='weight')\n",
    "\n",
    "    # 计算模块度\n",
    "    modularity = community_louvain.modularity(partition, graph, weight='weight')\n",
    "    print(f\"Iteration {i + 1} Modularity: {modularity}\")\n",
    "\n",
    "    # 检查是否为目前最好的划分\n",
    "    if modularity > best_modularity:\n",
    "        best_modularity = modularity\n",
    "        best_partition = partition\n"
   ]
  },
  {
   "cell_type": "code",
   "execution_count": 14,
   "metadata": {},
   "outputs": [
    {
     "name": "stdout",
     "output_type": "stream",
     "text": [
      "Number of communities: 9\n"
     ]
    }
   ],
   "source": [
    "# 将节点分配到社区\n",
    "communities = {}\n",
    "for node, community in best_partition.items():\n",
    "    if community not in communities:\n",
    "        communities[community] = []\n",
    "    communities[community].append(node)\n",
    "\n",
    "# 将社区转换为列表\n",
    "community_list = list(communities.values())\n",
    "\n",
    "# 设定所需的社区数量\n",
    "desired_communities = 9\n",
    "\n",
    "# 合并社区直到达到所需的社区数量\n",
    "while len(community_list) > desired_communities:\n",
    "    # 找到两个最小的社区\n",
    "    community_list.sort(key=len)\n",
    "    smallest_community = community_list.pop(0)\n",
    "    second_smallest_community = community_list.pop(0)\n",
    "    \n",
    "    # 合并这两个社区\n",
    "    merged_community = smallest_community + second_smallest_community\n",
    "    \n",
    "    # 将合并后的社区添加回列表\n",
    "    community_list.append(merged_community)\n",
    "    \n",
    "print(f'Number of communities: {len(community_list)}')"
   ]
  },
  {
   "cell_type": "code",
   "execution_count": 15,
   "metadata": {},
   "outputs": [
    {
     "name": "stdout",
     "output_type": "stream",
     "text": [
      "Best community detection results saved.\n"
     ]
    }
   ],
   "source": [
    "# 保存合并后的社区结果\n",
    "with open(\"community3.txt\", \"w\") as file:\n",
    "    file.write(f\"Best Modularity: {best_modularity}\\n\")\n",
    "    for community_id, community in enumerate(community_list):\n",
    "        for node in community:\n",
    "            file.write(f\"{node} -- {community_id}\\n\")\n",
    "\n",
    "print(\"Best community detection results saved.\")\n"
   ]
  }
 ],
 "metadata": {
  "kernelspec": {
   "display_name": "myenv",
   "language": "python",
   "name": "python3"
  },
  "language_info": {
   "codemirror_mode": {
    "name": "ipython",
    "version": 3
   },
   "file_extension": ".py",
   "mimetype": "text/x-python",
   "name": "python",
   "nbconvert_exporter": "python",
   "pygments_lexer": "ipython3",
   "version": "3.10.14"
  }
 },
 "nbformat": 4,
 "nbformat_minor": 2
}
